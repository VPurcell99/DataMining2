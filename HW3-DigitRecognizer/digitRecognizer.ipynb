{
    "cells": [
        {
            "cell_type": "markdown",
            "source": [
                "# Vincent Purcell\r\n",
                "##### Data Mining 2 - Summer 2021 #####\r\n",
                "##### HW3 - Kaggle Digit Recognizer #####\r\n",
                "Some code take from: https://www.kaggle.com/kanncaa1/convolutional-neural-network-cnn-tutorial\r\n",
                "Some code also taken from Professor Breitzman's code\r\n",
                "\r\n",
                "Modified CNN multiple times to increase accuracy as much as a could\r\n"
            ],
            "metadata": {}
        },
        {
            "cell_type": "code",
            "execution_count": 85,
            "source": [
                "import numpy as np # linear algebra\r\n",
                "import pandas as pd # data processing\r\n",
                "import seaborn as sns\r\n",
                "import matplotlib.pyplot as plt"
            ],
            "outputs": [],
            "metadata": {}
        },
        {
            "cell_type": "code",
            "execution_count": 86,
            "source": [
                "train = pd.read_csv(\"train.csv\")\r\n",
                "train.head()\r\n",
                "test = pd.read_csv(\"test.csv\")"
            ],
            "outputs": [],
            "metadata": {}
        },
        {
            "cell_type": "markdown",
            "source": [
                "### Get X and Y training data ###"
            ],
            "metadata": {}
        },
        {
            "cell_type": "code",
            "execution_count": 87,
            "source": [
                "Y_train = train[\"label\"]\r\n",
                "# Drop 'label' column\r\n",
                "X_train = train.drop(labels = [\"label\"],axis = 1) \r\n",
                "X_train = X_train / 255.0\r\n",
                "test = test / 255.0"
            ],
            "outputs": [],
            "metadata": {}
        },
        {
            "cell_type": "markdown",
            "source": [
                "### Reshape data for keras and get train test split ###"
            ],
            "metadata": {}
        },
        {
            "cell_type": "code",
            "execution_count": 89,
            "source": [
                "# Reshape\r\n",
                "X_train = X_train.values.reshape(-1,28,28,1)\r\n",
                "test = test.values.reshape(-1,28,28,1)\r\n",
                "print(\"x_train shape: \",X_train.shape)\r\n",
                "print(\"test shape: \",test.shape)\r\n",
                "\r\n",
                "# Split the train and the validation set for the fitting\r\n",
                "from sklearn.model_selection import train_test_split\r\n",
                "X_train, X_val, Y_train, Y_val = train_test_split(X_train, Y_train, test_size = 0.08, random_state=20)"
            ],
            "outputs": [
                {
                    "output_type": "stream",
                    "name": "stdout",
                    "text": [
                        "x_train shape:  (42000, 28, 28, 1)\n",
                        "test shape:  (28000, 28, 28, 1)\n"
                    ]
                }
            ],
            "metadata": {}
        },
        {
            "cell_type": "code",
            "execution_count": 90,
            "source": [
                "from keras.utils import np_utils\r\n",
                "from keras.models import Sequential\r\n",
                "from keras.layers import Dense, Dropout, Flatten, Conv2D, MaxPool2D\r\n",
                "from keras.optimizers import RMSprop\r\n",
                "from keras.preprocessing.image import ImageDataGenerator\r\n",
                "from keras.callbacks import ReduceLROnPlateau\r\n",
                "\r\n",
                "n_classes = 10\r\n",
                "print(\"Shape before one-hot encoding: \", Y_train.shape)\r\n",
                "Y_train = np_utils.to_categorical(Y_train, n_classes)\r\n",
                "Y_val = np_utils.to_categorical(Y_val, n_classes)\r\n",
                "print(\"Shape after one-hot encoding: \", Y_train.shape)"
            ],
            "outputs": [
                {
                    "output_type": "stream",
                    "name": "stdout",
                    "text": [
                        "Shape before one-hot encoding:  (38640,)\n",
                        "Shape after one-hot encoding:  (38640, 10)\n"
                    ]
                }
            ],
            "metadata": {}
        },
        {
            "cell_type": "code",
            "execution_count": 91,
            "source": [
                "model = Sequential()\r\n",
                "model.add(Conv2D(48, kernel_size=(7,7), strides=(1,1), padding='valid', activation='relu', input_shape=(28,28,1)))\r\n",
                "model.add(Conv2D(filters = 36, kernel_size = (7,7),padding = 'valid', activation ='relu'))\r\n",
                "model.add(MaxPool2D(pool_size=(2,2)))\r\n",
                "model.add(Dropout(0.2))\r\n",
                "model.add(Conv2D(filters = 96, kernel_size = (3,3),padding = 'valid', activation ='relu'))\r\n",
                "model.add(Conv2D(filters = 96, kernel_size = (3,3),padding = 'valid', activation ='relu'))\r\n",
                "model.add(MaxPool2D(pool_size=(2,2), strides=(2,2)))\r\n",
                "model.add(Dropout(0.2))\r\n",
                "\r\n",
                "model.add(Flatten())\r\n",
                "model.add(Dense(256, activation = \"relu\"))\r\n",
                "model.add(Dropout(0.4))\r\n",
                "model.add(Dense(10, activation = \"softmax\"))"
            ],
            "outputs": [],
            "metadata": {}
        },
        {
            "cell_type": "code",
            "execution_count": 92,
            "source": [
                "# Define the optimizer\r\n",
                "optimizer = RMSprop(learning_rate=0.001, rho=0.9, epsilon=1e-08, decay=0.0)\r\n",
                "model.compile(loss='categorical_crossentropy', metrics=['accuracy'], optimizer=optimizer)\r\n",
                "\r\n",
                "# Set a learning rate annealer\r\n",
                "learning_rate_reduction = ReduceLROnPlateau(monitor='val_accuracy', \r\n",
                "                                            patience=2, \r\n",
                "                                            verbose=1, \r\n",
                "                                            factor=0.5, \r\n",
                "                                            min_lr=0.000005)\r\n",
                "\r\n",
                "epochs = 36\r\n",
                "batch_size = 128\r\n",
                "#history = model.fit(X_train, Y_train, batch_size=128, epochs=15, validation_data=(X_test, Y_test))\r\n",
                "\r\n",
                "# With data augmentation to prevent overfitting (accuracy 0.99286)\r\n",
                "\r\n",
                "datagen = ImageDataGenerator(\r\n",
                "        featurewise_center=False,  # set input mean to 0 over the dataset\r\n",
                "        samplewise_center=False,  # set each sample mean to 0\r\n",
                "        featurewise_std_normalization=False,  # divide inputs by std of the dataset\r\n",
                "        samplewise_std_normalization=False,  # divide each input by its std\r\n",
                "        zca_whitening=False,  # apply ZCA whitening\r\n",
                "        rotation_range=5,  # randomly rotate images in the range (degrees, 0 to 180)\r\n",
                "        zoom_range = 0.1, # Randomly zoom image \r\n",
                "        width_shift_range=0.1,  # randomly shift images horizontally (fraction of total width)\r\n",
                "        height_shift_range=0.1,  # randomly shift images vertically (fraction of total height)\r\n",
                "        horizontal_flip=False,  # randomly flip images\r\n",
                "        vertical_flip=False)  # randomly flip images\r\n",
                "\r\n",
                "datagen.fit(X_train)\r\n",
                "\r\n",
                "history = model.fit(datagen.flow(X_train,Y_train, batch_size=batch_size),\r\n",
                "                              epochs = epochs, validation_data = (X_val,Y_val), steps_per_epoch=X_train.shape[0] // batch_size\r\n",
                "                              , callbacks=[learning_rate_reduction])"
            ],
            "outputs": [
                {
                    "output_type": "stream",
                    "name": "stdout",
                    "text": [
                        "Epoch 1/36\n",
                        "301/301 [==============================] - 72s 234ms/step - loss: 1.1356 - accuracy: 0.6127 - val_loss: 0.1311 - val_accuracy: 0.9613\n",
                        "Epoch 2/36\n",
                        "301/301 [==============================] - 75s 248ms/step - loss: 0.1746 - accuracy: 0.9488 - val_loss: 0.0630 - val_accuracy: 0.9824\n",
                        "Epoch 3/36\n",
                        "301/301 [==============================] - 79s 262ms/step - loss: 0.1078 - accuracy: 0.9694 - val_loss: 0.0405 - val_accuracy: 0.9878\n",
                        "Epoch 4/36\n",
                        "301/301 [==============================] - 73s 244ms/step - loss: 0.0867 - accuracy: 0.9753 - val_loss: 0.0436 - val_accuracy: 0.9899\n",
                        "Epoch 5/36\n",
                        "301/301 [==============================] - 75s 248ms/step - loss: 0.0684 - accuracy: 0.9806 - val_loss: 0.0399 - val_accuracy: 0.9908\n",
                        "Epoch 6/36\n",
                        "301/301 [==============================] - 75s 248ms/step - loss: 0.0660 - accuracy: 0.9808 - val_loss: 0.0467 - val_accuracy: 0.9881\n",
                        "Epoch 7/36\n",
                        "301/301 [==============================] - 73s 242ms/step - loss: 0.0558 - accuracy: 0.9848 - val_loss: 0.0395 - val_accuracy: 0.9893\n",
                        "\n",
                        "Epoch 00007: ReduceLROnPlateau reducing learning rate to 0.0005000000237487257.\n",
                        "Epoch 8/36\n",
                        "301/301 [==============================] - 70s 232ms/step - loss: 0.0411 - accuracy: 0.9879 - val_loss: 0.0302 - val_accuracy: 0.9917\n",
                        "Epoch 9/36\n",
                        "301/301 [==============================] - 69s 229ms/step - loss: 0.0396 - accuracy: 0.9896 - val_loss: 0.0280 - val_accuracy: 0.9932\n",
                        "Epoch 10/36\n",
                        "301/301 [==============================] - 69s 229ms/step - loss: 0.0361 - accuracy: 0.9901 - val_loss: 0.0367 - val_accuracy: 0.9899\n",
                        "Epoch 11/36\n",
                        "301/301 [==============================] - 68s 227ms/step - loss: 0.0318 - accuracy: 0.9918 - val_loss: 0.0297 - val_accuracy: 0.9943\n",
                        "Epoch 12/36\n",
                        "301/301 [==============================] - 68s 227ms/step - loss: 0.0338 - accuracy: 0.9914 - val_loss: 0.0383 - val_accuracy: 0.9908\n",
                        "Epoch 13/36\n",
                        "301/301 [==============================] - 75s 249ms/step - loss: 0.0347 - accuracy: 0.9904 - val_loss: 0.0310 - val_accuracy: 0.9937\n",
                        "\n",
                        "Epoch 00013: ReduceLROnPlateau reducing learning rate to 0.0002500000118743628.\n",
                        "Epoch 14/36\n",
                        "301/301 [==============================] - 74s 245ms/step - loss: 0.0285 - accuracy: 0.9923 - val_loss: 0.0265 - val_accuracy: 0.9935\n",
                        "Epoch 15/36\n",
                        "301/301 [==============================] - 74s 247ms/step - loss: 0.0254 - accuracy: 0.9932 - val_loss: 0.0342 - val_accuracy: 0.9940\n",
                        "\n",
                        "Epoch 00015: ReduceLROnPlateau reducing learning rate to 0.0001250000059371814.\n",
                        "Epoch 16/36\n",
                        "301/301 [==============================] - 75s 250ms/step - loss: 0.0180 - accuracy: 0.9940 - val_loss: 0.0277 - val_accuracy: 0.9935\n",
                        "Epoch 17/36\n",
                        "301/301 [==============================] - 75s 250ms/step - loss: 0.0186 - accuracy: 0.9949 - val_loss: 0.0252 - val_accuracy: 0.9937\n",
                        "\n",
                        "Epoch 00017: ReduceLROnPlateau reducing learning rate to 6.25000029685907e-05.\n",
                        "Epoch 18/36\n",
                        "301/301 [==============================] - 74s 245ms/step - loss: 0.0187 - accuracy: 0.9948 - val_loss: 0.0269 - val_accuracy: 0.9946\n",
                        "Epoch 19/36\n",
                        "301/301 [==============================] - 74s 245ms/step - loss: 0.0184 - accuracy: 0.9951 - val_loss: 0.0241 - val_accuracy: 0.9943\n",
                        "Epoch 20/36\n",
                        "301/301 [==============================] - 74s 246ms/step - loss: 0.0177 - accuracy: 0.9950 - val_loss: 0.0258 - val_accuracy: 0.9949\n",
                        "Epoch 21/36\n",
                        "301/301 [==============================] - 74s 247ms/step - loss: 0.0169 - accuracy: 0.9959 - val_loss: 0.0247 - val_accuracy: 0.9937\n",
                        "Epoch 22/36\n",
                        "301/301 [==============================] - 74s 247ms/step - loss: 0.0136 - accuracy: 0.9962 - val_loss: 0.0245 - val_accuracy: 0.9940\n",
                        "\n",
                        "Epoch 00022: ReduceLROnPlateau reducing learning rate to 3.125000148429535e-05.\n",
                        "Epoch 23/36\n",
                        "301/301 [==============================] - 74s 244ms/step - loss: 0.0142 - accuracy: 0.9956 - val_loss: 0.0249 - val_accuracy: 0.9946\n",
                        "Epoch 24/36\n",
                        "301/301 [==============================] - 71s 235ms/step - loss: 0.0146 - accuracy: 0.9955 - val_loss: 0.0254 - val_accuracy: 0.9946\n",
                        "\n",
                        "Epoch 00024: ReduceLROnPlateau reducing learning rate to 1.5625000742147677e-05.\n",
                        "Epoch 25/36\n",
                        "301/301 [==============================] - 70s 231ms/step - loss: 0.0155 - accuracy: 0.9956 - val_loss: 0.0253 - val_accuracy: 0.9946\n",
                        "Epoch 26/36\n",
                        "301/301 [==============================] - 73s 242ms/step - loss: 0.0158 - accuracy: 0.9955 - val_loss: 0.0257 - val_accuracy: 0.9937\n",
                        "\n",
                        "Epoch 00026: ReduceLROnPlateau reducing learning rate to 7.812500371073838e-06.\n",
                        "Epoch 27/36\n",
                        " 21/301 [=>............................] - ETA: 1:06 - loss: 0.0090 - accuracy: 0.9970"
                    ]
                }
            ],
            "metadata": {}
        },
        {
            "cell_type": "code",
            "execution_count": null,
            "source": [
                "# Plot the loss and accuracy curves for training and validation \r\n",
                "fig, ax = plt.subplots(2,1)\r\n",
                "ax[0].plot(history.history['loss'], color='b', label=\"Training loss\")\r\n",
                "ax[0].plot(history.history['val_loss'], color='r', label=\"validation loss\",axes =ax[0])\r\n",
                "legend = ax[0].legend(loc='best', shadow=True)\r\n",
                "\r\n",
                "ax[1].plot(history.history['accuracy'], color='b', label=\"Training accuracy\")\r\n",
                "ax[1].plot(history.history['val_accuracy'], color='r',label=\"Validation accuracy\")\r\n",
                "legend = ax[1].legend(loc='best', shadow=True)"
            ],
            "outputs": [
                {
                    "output_type": "display_data",
                    "data": {
                        "text/plain": [
                            "<Figure size 432x288 with 2 Axes>"
                        ],
                        "image/png": "[encoded data removed]"
                    },
                    "metadata": {
                        "needs_background": "light"
                    }
                }
            ],
            "metadata": {}
        },
        {
            "cell_type": "code",
            "execution_count": null,
            "source": [
                "# confusion matrix\r\n",
                "import seaborn as sns\r\n",
                "from sklearn.metrics import confusion_matrix\r\n",
                "\r\n",
                "# Predict the values from the validation dataset\r\n",
                "Y_pred = model.predict(X_val)\r\n",
                "# Convert predictions classes to one hot vectors \r\n",
                "Y_pred_classes = np.argmax(Y_pred,axis = 1) \r\n",
                "# Convert validation observations to one hot vectors\r\n",
                "Y_true = np.argmax(Y_val,axis = 1) \r\n",
                "# compute the confusion matrix\r\n",
                "confusion_mtx = confusion_matrix(Y_true, Y_pred_classes) \r\n",
                "# plot the confusion matrix\r\n",
                "f,ax = plt.subplots(figsize=(8, 8))\r\n",
                "sns.heatmap(confusion_mtx, annot=True, linewidths=0.01,cmap=\"Greens\",linecolor=\"gray\", fmt= '.1f',ax=ax)\r\n",
                "plt.xlabel(\"Predicted Label\")\r\n",
                "plt.ylabel(\"True Label\")\r\n",
                "plt.title(\"Confusion Matrix\")\r\n",
                "plt.show()"
            ],
            "outputs": [
                {
                    "output_type": "display_data",
                    "data": {
                        "text/plain": [
                            "<Figure size 576x576 with 2 Axes>"
                        ],
                        "image/png": "[encoded data removed]"
                    },
                    "metadata": {
                        "needs_background": "light"
                    }
                }
            ],
            "metadata": {}
        },
        {
            "cell_type": "code",
            "execution_count": null,
            "source": [
                "test_guess_proba = model.predict(test)"
            ],
            "outputs": [],
            "metadata": {}
        },
        {
            "cell_type": "code",
            "execution_count": null,
            "source": [
                "test_predictions = np.argmax(test_guess_proba, axis=1)\r\n",
                "results = pd.Series(test_predictions,name=\"Label\")\r\n",
                "csv_data = pd.DataFrame({'ImageId' : list(range(1,len(results)+1)),\r\n",
                "                         'Label' : results})\r\n",
                "csv_data.to_csv('submission.csv', index=False)"
            ],
            "outputs": [],
            "metadata": {}
        }
    ],
    "metadata": {
        "orig_nbformat": 4,
        "language_info": {
            "name": "python",
            "version": "3.8.7",
            "mimetype": "text/x-python",
            "codemirror_mode": {
                "name": "ipython",
                "version": 3
            },
            "pygments_lexer": "ipython3",
            "nbconvert_exporter": "python",
            "file_extension": ".py"
        },
        "kernelspec": {
            "name": "python3",
            "display_name": "Python 3.8.7 64-bit"
        },
        "interpreter": {
            "hash": "8701f80c374d04af0e91f6be4c5e64730e695461425753d44c3710c84263da43"
        }
    },
    "nbformat": 4,
    "nbformat_minor": 2
}